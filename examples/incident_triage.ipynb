{
 "cells": [
  {
   "cell_type": "markdown",
   "metadata": {},
   "source": [
    "# FlowDex Incident Triage Walkthrough\n",
    "This notebook demonstrates how to seed durable memory, issue an inference request, and inspect the response metadata."
   ]
  },
  {
   "cell_type": "code",
   "execution_count": null,
   "metadata": {},
   "outputs": [],
   "source": [
    "import os\n",
    "import json\n",
    "import requests\n",
    "\n",
    "BASE_URL = os.environ.get('FLOWDEX_BASE', 'http://localhost:8787')\n",
    "API_KEY = os.environ.get('FLOWDEX_API_KEY')\n",
    "HEADERS = {'Content-Type': 'application/json'}\n",
    "if API_KEY:\n",
    "    HEADERS['X-API-Key'] = API_KEY\n",
    "\n",
    "memory_payload = {\n",
    "    'id': 'incident.runbook',\n",
    "    'title': 'Major Incident Checklist',\n",
    "    'body': '1) Page responders\\n2) Check dashboards\\n3) Draft customer update',\n",
    "    'tags': ['incident', 'customer'],\n",
    "}\n",
    "requests.post(f'{BASE_URL}/memory/put', json=memory_payload, headers=HEADERS, timeout=30).raise_for_status()\n",
    "\n",
    "infer_payload = {\n",
    "    'task': 'incident_triage',\n",
    "    'model': 'anthropic/claude-3-5-sonnet',\n",
    "    'inputs': {\n",
    "        'user': 'Summarize the last incident and propose next steps.',\n",
    "        'context': ['incident.runbook'],\n",
    "        'tool_hints': [],\n",
    "    },\n",
    "}\n",
    "response = requests.post(f'{BASE_URL}/infer', json=infer_payload, headers=HEADERS, timeout=60)\n",
    "response.raise_for_status()\n",
    "print(json.dumps(response.json(), indent=2))\n"
   ]
  }
 ],
 "metadata": {
  "kernelspec": {
   "display_name": "Python 3",
   "language": "python",
   "name": "python3"
  },
  "language_info": {
   "name": "python",
   "version": "3.10"
  }
 },
 "nbformat": 4,
 "nbformat_minor": 5
}